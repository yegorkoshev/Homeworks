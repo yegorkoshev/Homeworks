{
 "cells": [
  {
   "cell_type": "markdown",
   "metadata": {},
   "source": [
    "# Задание 1\n",
    "Напишите функцию date_range, которая возвращает список дней между датами start_date и end_date. Даты должны вводиться в формате YYYY-MM-DD."
   ]
  },
  {
   "cell_type": "code",
   "execution_count": 49,
   "metadata": {},
   "outputs": [],
   "source": [
    "from datetime import datetime\n",
    "from datetime import timedelta"
   ]
  },
  {
   "cell_type": "code",
   "execution_count": 50,
   "metadata": {},
   "outputs": [],
   "source": [
    "# Принимает даты в формате '%d.%m.%Y'\n",
    "\n",
    "def date_range(start_date, end_date):\n",
    "    try:\n",
    "        date_list = []\n",
    "        start_date = datetime.strptime(start_date, '%d.%m.%Y')\n",
    "        end_date = datetime.strptime(end_date, '%d.%m.%Y')\n",
    "    \n",
    "        if start_date < end_date:\n",
    "            end_date = end_date + timedelta(days=-1)\n",
    "            while start_date != end_date:\n",
    "                start_date = start_date + timedelta(days=1)\n",
    "                date_list.append(datetime.strftime(start_date, '%Y-%m-%d'))\n",
    "        elif start_date > end_date:\n",
    "            end_date = end_date + timedelta(days=1)\n",
    "            while start_date != end_date:\n",
    "                start_date = start_date + timedelta(days=-1)\n",
    "                date_list.append(datetime.strftime(start_date, '%Y-%m-%d'))         \n",
    "        print(date_list)\n",
    "        \n",
    "    except:\n",
    "        print(date_list)"
   ]
  },
  {
   "cell_type": "code",
   "execution_count": 52,
   "metadata": {},
   "outputs": [
    {
     "name": "stdout",
     "output_type": "stream",
     "text": [
      "['2020-01-19', '2020-01-18', '2020-01-17', '2020-01-16', '2020-01-15', '2020-01-14', '2020-01-13', '2020-01-12', '2020-01-11']\n"
     ]
    }
   ],
   "source": [
    "date_range('20.01.2020', '10.01.2020')"
   ]
  },
  {
   "cell_type": "markdown",
   "metadata": {},
   "source": [
    "# Задание 2\n",
    "Дополните функцию из первого задания проверкой на корректность дат. В случае неверного формата или если start_date > end_date должен возвращаться пустой список."
   ]
  },
  {
   "cell_type": "code",
   "execution_count": 53,
   "metadata": {},
   "outputs": [],
   "source": [
    "# см. код в задании 1"
   ]
  },
  {
   "cell_type": "markdown",
   "metadata": {},
   "source": [
    "# Задание 3\n",
    "Дан поток дат в формате YYYY-MM-DD, в которых встречаются некорректные значения:\n",
    "stream = [‘2018-04-02’, ‘2018-02-29’, ‘2018-19-02’]\n",
    "\n",
    "Напишите функцию, которая проверяет эти даты на корректность. Т. е. для каждой даты возвращает True (дата корректна) или False (некорректная дата)."
   ]
  },
  {
   "cell_type": "code",
   "execution_count": 54,
   "metadata": {},
   "outputs": [],
   "source": [
    "from datetime import datetime\n",
    "from datetime import timedelta"
   ]
  },
  {
   "cell_type": "code",
   "execution_count": 58,
   "metadata": {},
   "outputs": [
    {
     "name": "stdout",
     "output_type": "stream",
     "text": [
      "True\n",
      "False\n",
      "False\n",
      "True\n"
     ]
    }
   ],
   "source": [
    "stream = ['2018-04-02', '2018-02-29', '2018-19-02', '2020-07-27']\n",
    "\n",
    "for date_ in stream:\n",
    "    try:\n",
    "        datetime.strptime(date_, '%Y-%m-%d')\n",
    "        print(True)\n",
    "    except:\n",
    "        print(False)"
   ]
  },
  {
   "cell_type": "markdown",
   "metadata": {},
   "source": [
    "# Задание 4 (бонусное)\n",
    "Ваш коллега прислал код функции:\n",
    "\n",
    "DEFAULT_USER_COUNT = 3\n",
    "\n",
    "def delete_and_return_last_user(region, default_list=[‘A100’, ‘A101’, ‘A102’]):\n",
    "\n",
    "#“Удаляет из списка default_list последнего пользователя и возвращает ID нового последнего пользователя.”\n",
    "\n",
    "    element_to_delete = default_list[-1]\n",
    "    default_list.remove(element_to_delete)\n",
    "    return default_list[DEFAULT_USER_COUNT-2]\n",
    "    \n",
    "При однократном вызове этой функции все работает корректно:\n",
    "\n",
    "delete_and_return_last_user(1)\n",
    "‘A101’\n",
    "\n",
    "Однако, при повторном вызове получается ошибка IndexError: list index out of range.\n",
    "\n",
    "Задание:\n",
    "\n",
    "Что значит ошибка list index out of range?\n",
    "Почему при первом запуске функция работает корректно, а при втором - нет?"
   ]
  },
  {
   "cell_type": "code",
   "execution_count": 57,
   "metadata": {},
   "outputs": [],
   "source": [
    "# Изначальное решение предполагает что всегда будет выдаваться элемент с индексом 1, а так как при повторном вызове остаётся\n",
    "# всего лишь один элемент с индексом 0, при попытке вызвать default_list[1] вылетает ошибка. Кроме того, такая логика не\n",
    "# предполагает, что список будет больше или меньше 3 элементов. Ниже вариант испривленного кода.\n",
    "\n",
    "def delete_and_return_last_user(region, default_list=['A100', 'A101', 'A102']): \n",
    "\n",
    "    try:\n",
    "        element_to_delete = default_list[-1]\n",
    "        default_list.remove(element_to_delete)\n",
    "        DEFAULT_USER_COUNT = len(default_list)\n",
    "        return default_list[DEFAULT_USER_COUNT-1]\n",
    "    except:\n",
    "        return print('Нет значений для вывода')"
   ]
  },
  {
   "cell_type": "code",
   "execution_count": 56,
   "metadata": {},
   "outputs": [
    {
     "name": "stdout",
     "output_type": "stream",
     "text": [
      "Нет значений для вывода\n"
     ]
    }
   ],
   "source": [
    "delete_and_return_last_user(1)"
   ]
  }
 ],
 "metadata": {
  "kernelspec": {
   "display_name": "Python 3",
   "language": "python",
   "name": "python3"
  },
  "language_info": {
   "codemirror_mode": {
    "name": "ipython",
    "version": 3
   },
   "file_extension": ".py",
   "mimetype": "text/x-python",
   "name": "python",
   "nbconvert_exporter": "python",
   "pygments_lexer": "ipython3",
   "version": "3.7.4"
  }
 },
 "nbformat": 4,
 "nbformat_minor": 2
}
