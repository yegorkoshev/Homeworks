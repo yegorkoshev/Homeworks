{
 "cells": [
  {
   "cell_type": "markdown",
   "metadata": {},
   "source": [
    "# Задание 1\n",
    "Скачайте с сайта https://grouplens.org/datasets/movielens/ датасет любого размера. Определите какому фильму было выставлено больше всего оценок 5.0."
   ]
  },
  {
   "cell_type": "code",
   "execution_count": 2,
   "metadata": {},
   "outputs": [],
   "source": [
    "import pandas as pd"
   ]
  },
  {
   "cell_type": "code",
   "execution_count": 3,
   "metadata": {},
   "outputs": [],
   "source": [
    "ratings = pd.read_csv('ml-latest/ratings.csv')\n",
    "movies = pd.read_csv('ml-latest/movies.csv')\n",
    "joined = ratings.merge(movies, on='movieId', how='left')"
   ]
  },
  {
   "cell_type": "code",
   "execution_count": 4,
   "metadata": {},
   "outputs": [
    {
     "name": "stdout",
     "output_type": "stream",
     "text": [
      "Фильм с наибольшим количеством оценок 5.0 - Shawshank Redemption, The (1994)\n"
     ]
    }
   ],
   "source": [
    "raiting_val = 5.0\n",
    "joined_filtered = joined[ joined.rating == raiting_val ]\n",
    "final_df = joined_filtered['movieId'].value_counts().head(10)\n",
    "movieid = list(dict(final_df).keys())[0]\n",
    "\n",
    "print(f'Фильм с наибольшим количеством оценок {raiting_val} - {joined[ joined.movieId == movieid ].to_numpy()[0][4]}')"
   ]
  },
  {
   "cell_type": "markdown",
   "metadata": {},
   "source": [
    "# Задание 2\n",
    "По данным файла power.csv посчитайте суммарное потребление стран Прибалтики (Латвия, Литва и Эстония) категорий 4, 12 и 21 за период с 2005 по 2010 года. Не учитывайте в расчетах отрицательные значения quantity."
   ]
  },
  {
   "cell_type": "code",
   "execution_count": 5,
   "metadata": {},
   "outputs": [],
   "source": [
    "df = pd.read_csv('power.csv')"
   ]
  },
  {
   "cell_type": "code",
   "execution_count": 6,
   "metadata": {},
   "outputs": [
    {
     "name": "stdout",
     "output_type": "stream",
     "text": [
      "Суммарное потребление стран Прибалтики: 240580.0\n"
     ]
    }
   ],
   "source": [
    "df_countries = df[ (df.country == 'Lithuania') | (df.country == 'Latvia') | (df.country == 'Estonia') ]\n",
    "df_categories = df_countries[ (df_countries.category == 4) | (df_countries.category == 12) | (df_countries.category == 21) ]\n",
    "df_period = df_categories[ (df_categories.year >= 2005) & (df_categories.year <= 2010) ]\n",
    "df_quantity = df_period[ df_period.quantity >= 0.0 ]\n",
    "print(f'''Суммарное потребление стран Прибалтики: {df_quantity['quantity'].sum()}''')"
   ]
  },
  {
   "cell_type": "markdown",
   "metadata": {},
   "source": [
    "# Задание 3\n",
    "Выберите страницу любого сайта с табличными данными. Импортируйте таблицы в pandas dataframe."
   ]
  },
  {
   "cell_type": "code",
   "execution_count": 9,
   "metadata": {},
   "outputs": [
    {
     "data": {
      "text/html": [
       "<div>\n",
       "<style scoped>\n",
       "    .dataframe tbody tr th:only-of-type {\n",
       "        vertical-align: middle;\n",
       "    }\n",
       "\n",
       "    .dataframe tbody tr th {\n",
       "        vertical-align: top;\n",
       "    }\n",
       "\n",
       "    .dataframe thead th {\n",
       "        text-align: right;\n",
       "    }\n",
       "</style>\n",
       "<table border=\"1\" class=\"dataframe\">\n",
       "  <thead>\n",
       "    <tr style=\"text-align: right;\">\n",
       "      <th></th>\n",
       "      <th>Время действия</th>\n",
       "      <th>Unnamed: 1</th>\n",
       "      <th>Название</th>\n",
       "      <th>Автор(ы)</th>\n",
       "      <th>Дата выхода</th>\n",
       "    </tr>\n",
       "  </thead>\n",
       "  <tbody>\n",
       "    <tr>\n",
       "      <td>0</td>\n",
       "      <td>прим. 232 ДБЯ</td>\n",
       "      <td>Р</td>\n",
       "      <td>«Расцвет Республики: Свет джедаев»  Точное мес...</td>\n",
       "      <td>Чарльз Соул</td>\n",
       "      <td>2020-08-25</td>\n",
       "    </tr>\n",
       "    <tr>\n",
       "      <td>1</td>\n",
       "      <td>прим. 232 ДБЯ</td>\n",
       "      <td>ДР</td>\n",
       "      <td>«Расцвет Республики: Тест на смелость»  Точное...</td>\n",
       "      <td>Джастина Ирланд</td>\n",
       "      <td>2020-09-08</td>\n",
       "    </tr>\n",
       "    <tr>\n",
       "      <td>2</td>\n",
       "      <td>прим. 232 ДБЯ</td>\n",
       "      <td>Р</td>\n",
       "      <td>«Расцвет Республики: Во тьму»  Точное местопол...</td>\n",
       "      <td>Клаудия Грей</td>\n",
       "      <td>2020-10-13</td>\n",
       "    </tr>\n",
       "    <tr>\n",
       "      <td>3</td>\n",
       "      <td>прим. 232 ДБЯ</td>\n",
       "      <td>Км</td>\n",
       "      <td>«The High Republic Adventures 1»  Точное место...</td>\n",
       "      <td>Даниэль Хосе Олдер</td>\n",
       "      <td>2020?</td>\n",
       "    </tr>\n",
       "    <tr>\n",
       "      <td>4</td>\n",
       "      <td>прим. 232 ДБЯ</td>\n",
       "      <td>Км</td>\n",
       "      <td>«Звёздные войны: Расцвет Республики, часть 1» ...</td>\n",
       "      <td>Каван Скотт</td>\n",
       "      <td>2020?</td>\n",
       "    </tr>\n",
       "    <tr>\n",
       "      <td>5</td>\n",
       "      <td>NaN</td>\n",
       "      <td>КР</td>\n",
       "      <td>«Рецепт смерти»[1]</td>\n",
       "      <td>Лэндри Уокер</td>\n",
       "      <td>2016-04-05</td>\n",
       "    </tr>\n",
       "    <tr>\n",
       "      <td>6</td>\n",
       "      <td>NaN</td>\n",
       "      <td>Р</td>\n",
       "      <td>«Дуку: Потерянный джедай»  Точное местоположен...</td>\n",
       "      <td>Каван Скотт</td>\n",
       "      <td>2019-04-30</td>\n",
       "    </tr>\n",
       "    <tr>\n",
       "      <td>7</td>\n",
       "      <td>прим. 40 ДБЯ</td>\n",
       "      <td>Р</td>\n",
       "      <td>«Учитель и ученик»</td>\n",
       "      <td>Клаудия Грей</td>\n",
       "      <td>2019-04-16</td>\n",
       "    </tr>\n",
       "    <tr>\n",
       "      <td>8</td>\n",
       "      <td>NaN</td>\n",
       "      <td>Р</td>\n",
       "      <td>«Траун: Доминация — Грядущий хаос»  Точное мес...</td>\n",
       "      <td>Тимоти Зан</td>\n",
       "      <td>2020-10-06</td>\n",
       "    </tr>\n",
       "    <tr>\n",
       "      <td>9</td>\n",
       "      <td>NaN</td>\n",
       "      <td>Км</td>\n",
       "      <td>«Звёздные войны. Эпоха Республики: Квай-Гон Дж...</td>\n",
       "      <td>Джоди Хаузер</td>\n",
       "      <td>2018-12-05</td>\n",
       "    </tr>\n",
       "  </tbody>\n",
       "</table>\n",
       "</div>"
      ],
      "text/plain": [
       "  Время действия Unnamed: 1  \\\n",
       "0  прим. 232 ДБЯ          Р   \n",
       "1  прим. 232 ДБЯ         ДР   \n",
       "2  прим. 232 ДБЯ          Р   \n",
       "3  прим. 232 ДБЯ         Км   \n",
       "4  прим. 232 ДБЯ         Км   \n",
       "5            NaN         КР   \n",
       "6            NaN          Р   \n",
       "7   прим. 40 ДБЯ          Р   \n",
       "8            NaN          Р   \n",
       "9            NaN         Км   \n",
       "\n",
       "                                            Название            Автор(ы)  \\\n",
       "0  «Расцвет Республики: Свет джедаев»  Точное мес...         Чарльз Соул   \n",
       "1  «Расцвет Республики: Тест на смелость»  Точное...     Джастина Ирланд   \n",
       "2  «Расцвет Республики: Во тьму»  Точное местопол...        Клаудия Грей   \n",
       "3  «The High Republic Adventures 1»  Точное место...  Даниэль Хосе Олдер   \n",
       "4  «Звёздные войны: Расцвет Республики, часть 1» ...         Каван Скотт   \n",
       "5                                 «Рецепт смерти»[1]        Лэндри Уокер   \n",
       "6  «Дуку: Потерянный джедай»  Точное местоположен...         Каван Скотт   \n",
       "7                                 «Учитель и ученик»        Клаудия Грей   \n",
       "8  «Траун: Доминация — Грядущий хаос»  Точное мес...          Тимоти Зан   \n",
       "9  «Звёздные войны. Эпоха Республики: Квай-Гон Дж...        Джоди Хаузер   \n",
       "\n",
       "  Дата выхода  \n",
       "0  2020-08-25  \n",
       "1  2020-09-08  \n",
       "2  2020-10-13  \n",
       "3       2020?  \n",
       "4       2020?  \n",
       "5  2016-04-05  \n",
       "6  2019-04-30  \n",
       "7  2019-04-16  \n",
       "8  2020-10-06  \n",
       "9  2018-12-05  "
      ]
     },
     "execution_count": 9,
     "metadata": {},
     "output_type": "execute_result"
    }
   ],
   "source": [
    "url = 'https://starwars.fandom.com/ru/wiki/%D0%A5%D1%80%D0%BE%D0%BD%D0%BE%D0%BB%D0%BE%D0%B3%D0%B8%D1%8F_%D0%BA%D0%B0%D0%BD%D0%BE%D0%BD%D0%B8%D1%87%D0%BD%D1%8B%D1%85_%D0%BC%D0%B0%D1%82%D0%B5%D1%80%D0%B8%D0%B0%D0%BB%D0%BE%D0%B2'\n",
    "pd.read_html(url, encoding='utf-8')[2].head(10)"
   ]
  }
 ],
 "metadata": {
  "kernelspec": {
   "display_name": "Python 3",
   "language": "python",
   "name": "python3"
  },
  "language_info": {
   "codemirror_mode": {
    "name": "ipython",
    "version": 3
   },
   "file_extension": ".py",
   "mimetype": "text/x-python",
   "name": "python",
   "nbconvert_exporter": "python",
   "pygments_lexer": "ipython3",
   "version": "3.7.4"
  }
 },
 "nbformat": 4,
 "nbformat_minor": 2
}
