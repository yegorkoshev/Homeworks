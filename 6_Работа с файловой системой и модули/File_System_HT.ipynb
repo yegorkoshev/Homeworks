{
 "cells": [
  {
   "cell_type": "markdown",
   "metadata": {},
   "source": [
    "# Домашнее задание\n",
    "1. Переведите содержимое файла purchase_log.txt в словарь purchases вида:\n",
    "```python\n",
    "{'1840e0b9d4': 'Продукты', ...}\n",
    "```\n",
    "\n",
    "2. Для каждого user_id в файле visit_log.csv добавьте третий столбец с категорией покупки (если покупка была).\n",
    "\n",
    "3. Запишите в файл funnel.csv визиты из файла visit_log.csv, в которых были покупки с указанием категории.\n",
    "\n",
    "Учтите условия на данные:\n",
    "- содержимое purchase_log.txt помещается в оперативную память компьютера\n",
    "- содержимое visit_log.csv - нет; используйте только построчную обработку этого файла"
   ]
  },
  {
   "cell_type": "code",
   "execution_count": 91,
   "metadata": {},
   "outputs": [],
   "source": [
    "import json\n",
    "\n",
    "purchases = {'user_id': 'category'}\n",
    "\n",
    "purchase_log = open('purchase_log.txt', 'r')\n",
    "\n",
    "for line in purchase_log.readlines():\n",
    "    line = json.loads(line)\n",
    "    id_ = line.get('user_id')\n",
    "    category = line.get('category')\n",
    "    purchases[id_] = category\n",
    "\n",
    "purchase_log.close()\n",
    "\n",
    "visit_log = open('visit_log.csv', 'r')\n",
    "funnel = open('funnel.csv ', 'w')\n",
    "\n",
    "for line in visit_log.readlines():\n",
    "    line = line.strip().split(',')\n",
    "    if purchases.get(line[0]) != None:\n",
    "        line.append(purchases.get(line[0]))\n",
    "        funnel.write(str(line))\n",
    "        \n",
    "visit_log.close()\n",
    "funnel.close()"
   ]
  }
 ],
 "metadata": {
  "kernelspec": {
   "display_name": "Python 3",
   "language": "python",
   "name": "python3"
  },
  "language_info": {
   "codemirror_mode": {
    "name": "ipython",
    "version": 3
   },
   "file_extension": ".py",
   "mimetype": "text/x-python",
   "name": "python",
   "nbconvert_exporter": "python",
   "pygments_lexer": "ipython3",
   "version": "3.7.4"
  }
 },
 "nbformat": 4,
 "nbformat_minor": 2
}
